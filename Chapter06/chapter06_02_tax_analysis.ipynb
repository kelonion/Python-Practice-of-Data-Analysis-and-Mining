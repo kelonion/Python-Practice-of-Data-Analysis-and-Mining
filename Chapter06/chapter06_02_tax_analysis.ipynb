{
 "cells": [
  {
   "cell_type": "markdown",
   "metadata": {
    "toc": true
   },
   "source": [
    "<h1><span class=\"tocSkip\"></span></h1>\n",
    "<div class=\"toc\"><ul class=\"toc-item\"><li><span><a href=\"#偷漏税预测\" data-toc-modified-id=\"偷漏税预测-1\">偷漏税预测</a></span><ul class=\"toc-item\"><li><span><a href=\"#数据预处理\" data-toc-modified-id=\"数据预处理-1.1\">数据预处理</a></span><ul class=\"toc-item\"><li><span><a href=\"#导入数据\" data-toc-modified-id=\"导入数据-1.1.1\">导入数据</a></span></li><li><span><a href=\"#数据类型转换\" data-toc-modified-id=\"数据类型转换-1.1.2\">数据类型转换</a></span></li><li><span><a href=\"#提取训练集及测试集\" data-toc-modified-id=\"提取训练集及测试集-1.1.3\">提取训练集及测试集</a></span></li></ul></li><li><span><a href=\"#预测模型\" data-toc-modified-id=\"预测模型-1.2\">预测模型</a></span></li></ul></li></ul></div>"
   ]
  },
  {
   "cell_type": "markdown",
   "metadata": {},
   "source": [
    "# 偷漏税预测"
   ]
  },
  {
   "cell_type": "markdown",
   "metadata": {},
   "source": [
    "## 数据预处理"
   ]
  },
  {
   "cell_type": "markdown",
   "metadata": {},
   "source": [
    "### 导入数据"
   ]
  },
  {
   "cell_type": "code",
   "execution_count": 1,
   "metadata": {},
   "outputs": [],
   "source": [
    "import pandas as pd"
   ]
  },
  {
   "cell_type": "code",
   "execution_count": 2,
   "metadata": {},
   "outputs": [],
   "source": [
    "input_file = './data/tax_data.xls'"
   ]
  },
  {
   "cell_type": "code",
   "execution_count": 3,
   "metadata": {},
   "outputs": [],
   "source": [
    "data = pd.read_excel(input_file)"
   ]
  },
  {
   "cell_type": "code",
   "execution_count": 4,
   "metadata": {},
   "outputs": [
    {
     "data": {
      "text/html": [
       "<div>\n",
       "<style scoped>\n",
       "    .dataframe tbody tr th:only-of-type {\n",
       "        vertical-align: middle;\n",
       "    }\n",
       "\n",
       "    .dataframe tbody tr th {\n",
       "        vertical-align: top;\n",
       "    }\n",
       "\n",
       "    .dataframe thead th {\n",
       "        text-align: right;\n",
       "    }\n",
       "</style>\n",
       "<table border=\"1\" class=\"dataframe\">\n",
       "  <thead>\n",
       "    <tr style=\"text-align: right;\">\n",
       "      <th></th>\n",
       "      <th>纳税人编号</th>\n",
       "      <th>销售类型</th>\n",
       "      <th>销售模式</th>\n",
       "      <th>汽车销售平均毛利</th>\n",
       "      <th>维修毛利</th>\n",
       "      <th>企业维修收入占销售收入比重</th>\n",
       "      <th>增值税税负</th>\n",
       "      <th>存货周转率</th>\n",
       "      <th>成本费用利润率</th>\n",
       "      <th>整体理论税负</th>\n",
       "      <th>整体税负控制数</th>\n",
       "      <th>办牌率</th>\n",
       "      <th>单台办牌手续费收入</th>\n",
       "      <th>代办保险率</th>\n",
       "      <th>保费返还率</th>\n",
       "      <th>输出</th>\n",
       "    </tr>\n",
       "  </thead>\n",
       "  <tbody>\n",
       "    <tr>\n",
       "      <th>0</th>\n",
       "      <td>1</td>\n",
       "      <td>国产轿车</td>\n",
       "      <td>4S店</td>\n",
       "      <td>0.0635</td>\n",
       "      <td>0.3241</td>\n",
       "      <td>0.0879</td>\n",
       "      <td>0.0084</td>\n",
       "      <td>8.5241</td>\n",
       "      <td>0.0018</td>\n",
       "      <td>0.0166</td>\n",
       "      <td>0.0147</td>\n",
       "      <td>0.4000</td>\n",
       "      <td>0.02</td>\n",
       "      <td>0.7155</td>\n",
       "      <td>0.1500</td>\n",
       "      <td>正常</td>\n",
       "    </tr>\n",
       "    <tr>\n",
       "      <th>1</th>\n",
       "      <td>2</td>\n",
       "      <td>国产轿车</td>\n",
       "      <td>4S店</td>\n",
       "      <td>0.0520</td>\n",
       "      <td>0.2577</td>\n",
       "      <td>0.1394</td>\n",
       "      <td>0.0298</td>\n",
       "      <td>5.2782</td>\n",
       "      <td>-0.0013</td>\n",
       "      <td>0.0032</td>\n",
       "      <td>0.0137</td>\n",
       "      <td>0.3307</td>\n",
       "      <td>0.02</td>\n",
       "      <td>0.2697</td>\n",
       "      <td>0.1367</td>\n",
       "      <td>正常</td>\n",
       "    </tr>\n",
       "    <tr>\n",
       "      <th>2</th>\n",
       "      <td>3</td>\n",
       "      <td>国产轿车</td>\n",
       "      <td>4S店</td>\n",
       "      <td>0.0173</td>\n",
       "      <td>0.1965</td>\n",
       "      <td>0.1025</td>\n",
       "      <td>0.0067</td>\n",
       "      <td>19.8356</td>\n",
       "      <td>0.0014</td>\n",
       "      <td>0.0080</td>\n",
       "      <td>0.0061</td>\n",
       "      <td>0.2256</td>\n",
       "      <td>0.02</td>\n",
       "      <td>0.2445</td>\n",
       "      <td>0.1301</td>\n",
       "      <td>正常</td>\n",
       "    </tr>\n",
       "    <tr>\n",
       "      <th>3</th>\n",
       "      <td>4</td>\n",
       "      <td>国产轿车</td>\n",
       "      <td>一级代理商</td>\n",
       "      <td>0.0501</td>\n",
       "      <td>0.0000</td>\n",
       "      <td>0.0000</td>\n",
       "      <td>0.0000</td>\n",
       "      <td>1.0673</td>\n",
       "      <td>-0.3596</td>\n",
       "      <td>-0.1673</td>\n",
       "      <td>0.0000</td>\n",
       "      <td>0.0000</td>\n",
       "      <td>0.00</td>\n",
       "      <td>0.0000</td>\n",
       "      <td>0.0000</td>\n",
       "      <td>异常</td>\n",
       "    </tr>\n",
       "    <tr>\n",
       "      <th>4</th>\n",
       "      <td>5</td>\n",
       "      <td>进口轿车</td>\n",
       "      <td>4S店</td>\n",
       "      <td>0.0564</td>\n",
       "      <td>0.0034</td>\n",
       "      <td>0.0066</td>\n",
       "      <td>0.0017</td>\n",
       "      <td>12.8470</td>\n",
       "      <td>-0.0014</td>\n",
       "      <td>0.0123</td>\n",
       "      <td>0.0095</td>\n",
       "      <td>0.0039</td>\n",
       "      <td>0.08</td>\n",
       "      <td>0.0117</td>\n",
       "      <td>0.1872</td>\n",
       "      <td>正常</td>\n",
       "    </tr>\n",
       "  </tbody>\n",
       "</table>\n",
       "</div>"
      ],
      "text/plain": [
       "   纳税人编号  销售类型   销售模式  汽车销售平均毛利    维修毛利  企业维修收入占销售收入比重   增值税税负    存货周转率  \\\n",
       "0      1  国产轿车    4S店    0.0635  0.3241         0.0879  0.0084   8.5241   \n",
       "1      2  国产轿车    4S店    0.0520  0.2577         0.1394  0.0298   5.2782   \n",
       "2      3  国产轿车    4S店    0.0173  0.1965         0.1025  0.0067  19.8356   \n",
       "3      4  国产轿车  一级代理商    0.0501  0.0000         0.0000  0.0000   1.0673   \n",
       "4      5  进口轿车    4S店    0.0564  0.0034         0.0066  0.0017  12.8470   \n",
       "\n",
       "   成本费用利润率  整体理论税负  整体税负控制数     办牌率  单台办牌手续费收入   代办保险率   保费返还率  输出  \n",
       "0   0.0018  0.0166   0.0147  0.4000       0.02  0.7155  0.1500  正常  \n",
       "1  -0.0013  0.0032   0.0137  0.3307       0.02  0.2697  0.1367  正常  \n",
       "2   0.0014  0.0080   0.0061  0.2256       0.02  0.2445  0.1301  正常  \n",
       "3  -0.3596 -0.1673   0.0000  0.0000       0.00  0.0000  0.0000  异常  \n",
       "4  -0.0014  0.0123   0.0095  0.0039       0.08  0.0117  0.1872  正常  "
      ]
     },
     "execution_count": 4,
     "metadata": {},
     "output_type": "execute_result"
    }
   ],
   "source": [
    "data.head()"
   ]
  },
  {
   "cell_type": "markdown",
   "metadata": {},
   "source": [
    "### 数据类型转换"
   ]
  },
  {
   "cell_type": "markdown",
   "metadata": {},
   "source": [
    "- 将类别转换为数字编号\n",
    "- 将输出结果转换为`Bool`\n",
    "- 舍弃第一列纳税人编号"
   ]
  },
  {
   "cell_type": "code",
   "execution_count": 5,
   "metadata": {},
   "outputs": [],
   "source": [
    "data['销售类型'] = data['销售类型'].astype('category').cat.codes"
   ]
  },
  {
   "cell_type": "code",
   "execution_count": 6,
   "metadata": {},
   "outputs": [],
   "source": [
    "data['销售模式'] = data['销售模式'].astype('category').cat.codes"
   ]
  },
  {
   "cell_type": "code",
   "execution_count": 7,
   "metadata": {},
   "outputs": [],
   "source": [
    "data['输出'] = (data['输出'] == '正常')"
   ]
  },
  {
   "cell_type": "code",
   "execution_count": 8,
   "metadata": {},
   "outputs": [],
   "source": [
    "data.drop(columns=['纳税人编号'], inplace=True)"
   ]
  },
  {
   "cell_type": "code",
   "execution_count": 9,
   "metadata": {},
   "outputs": [
    {
     "name": "stdout",
     "output_type": "stream",
     "text": [
      "<class 'pandas.core.frame.DataFrame'>\n",
      "RangeIndex: 124 entries, 0 to 123\n",
      "Data columns (total 15 columns):\n",
      "销售类型             124 non-null int8\n",
      "销售模式             124 non-null int8\n",
      "汽车销售平均毛利         124 non-null float64\n",
      "维修毛利             124 non-null float64\n",
      "企业维修收入占销售收入比重    124 non-null float64\n",
      "增值税税负            124 non-null float64\n",
      "存货周转率            124 non-null float64\n",
      "成本费用利润率          124 non-null float64\n",
      "整体理论税负           124 non-null float64\n",
      "整体税负控制数          124 non-null float64\n",
      "办牌率              124 non-null float64\n",
      "单台办牌手续费收入        124 non-null float64\n",
      "代办保险率            124 non-null float64\n",
      "保费返还率            124 non-null float64\n",
      "输出               124 non-null bool\n",
      "dtypes: bool(1), float64(12), int8(2)\n",
      "memory usage: 12.1 KB\n"
     ]
    }
   ],
   "source": [
    "data.info()"
   ]
  },
  {
   "cell_type": "markdown",
   "metadata": {},
   "source": [
    "### 提取训练集及测试集"
   ]
  },
  {
   "cell_type": "code",
   "execution_count": 17,
   "metadata": {},
   "outputs": [],
   "source": [
    "# 打乱原数据顺序\n",
    "idx_lst = list(data.index)\n",
    "pd.np.random.shuffle(idx_lst)\n",
    "\n",
    "data = data.iloc[idx_lst]"
   ]
  },
  {
   "cell_type": "code",
   "execution_count": 11,
   "metadata": {},
   "outputs": [],
   "source": [
    "# 取80%的数据作为训练集，其余作为测试集\n",
    "train = data.iloc[:int(len(data)*0.8), :]\n",
    "test = data.iloc[int(len(data)*0.8):, :]"
   ]
  },
  {
   "cell_type": "code",
   "execution_count": 12,
   "metadata": {},
   "outputs": [],
   "source": [
    "x_train = train.iloc[:,:-1]\n",
    "y_train = train.iloc[:, -1]\n",
    "\n",
    "x_test = test.iloc[:, :-1]\n",
    "y_test = test.iloc[:, -1]"
   ]
  },
  {
   "cell_type": "markdown",
   "metadata": {},
   "source": [
    "## 预测模型"
   ]
  },
  {
   "cell_type": "markdown",
   "metadata": {},
   "source": [
    "### "
   ]
  },
  {
   "cell_type": "code",
   "execution_count": 13,
   "metadata": {},
   "outputs": [],
   "source": [
    "from sklearn.tree import DecisionTreeClassifier"
   ]
  },
  {
   "cell_type": "code",
   "execution_count": 14,
   "metadata": {},
   "outputs": [],
   "source": [
    "tree = DecisionTreeClassifier()"
   ]
  },
  {
   "cell_type": "code",
   "execution_count": 15,
   "metadata": {},
   "outputs": [
    {
     "data": {
      "text/plain": [
       "DecisionTreeClassifier(class_weight=None, criterion='gini', max_depth=None,\n",
       "            max_features=None, max_leaf_nodes=None,\n",
       "            min_impurity_decrease=0.0, min_impurity_split=None,\n",
       "            min_samples_leaf=1, min_samples_split=2,\n",
       "            min_weight_fraction_leaf=0.0, presort=False, random_state=None,\n",
       "            splitter='best')"
      ]
     },
     "execution_count": 15,
     "metadata": {},
     "output_type": "execute_result"
    }
   ],
   "source": [
    "tree.fit(x_train, y_train)"
   ]
  },
  {
   "cell_type": "code",
   "execution_count": null,
   "metadata": {},
   "outputs": [],
   "source": []
  },
  {
   "cell_type": "code",
   "execution_count": 16,
   "metadata": {
    "scrolled": true
   },
   "outputs": [
    {
     "data": {
      "text/plain": [
       "0.8"
      ]
     },
     "execution_count": 16,
     "metadata": {},
     "output_type": "execute_result"
    }
   ],
   "source": [
    "tree.score(x_test, y_test)"
   ]
  }
 ],
 "metadata": {
  "kernelspec": {
   "display_name": "Python 3",
   "language": "python",
   "name": "python3"
  },
  "language_info": {
   "codemirror_mode": {
    "name": "ipython",
    "version": 3
   },
   "file_extension": ".py",
   "mimetype": "text/x-python",
   "name": "python",
   "nbconvert_exporter": "python",
   "pygments_lexer": "ipython3",
   "version": "3.7.1"
  },
  "toc": {
   "base_numbering": 1,
   "nav_menu": {},
   "number_sections": false,
   "sideBar": true,
   "skip_h1_title": false,
   "title_cell": "",
   "title_sidebar": "Contents",
   "toc_cell": true,
   "toc_position": {},
   "toc_section_display": true,
   "toc_window_display": true
  }
 },
 "nbformat": 4,
 "nbformat_minor": 2
}
