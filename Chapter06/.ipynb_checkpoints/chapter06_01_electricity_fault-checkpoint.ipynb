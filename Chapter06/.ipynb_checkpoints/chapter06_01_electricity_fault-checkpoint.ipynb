{
 "cells": [
  {
   "cell_type": "markdown",
   "metadata": {},
   "source": [
    "# 电力窃漏电用户自动识别"
   ]
  },
  {
   "cell_type": "markdown",
   "metadata": {},
   "source": [
    "## 拉格朗日插值法"
   ]
  },
  {
   "cell_type": "code",
   "execution_count": 1,
   "metadata": {},
   "outputs": [],
   "source": [
    "import pandas as pd\n",
    "from scipy.interpolate import lagrange"
   ]
  },
  {
   "cell_type": "code",
   "execution_count": 2,
   "metadata": {},
   "outputs": [],
   "source": [
    "input_file = './data/missing_data.xls'"
   ]
  },
  {
   "cell_type": "code",
   "execution_count": 3,
   "metadata": {},
   "outputs": [],
   "source": [
    "data = pd.read_excel(input_file, header=None)"
   ]
  },
  {
   "cell_type": "code",
   "execution_count": 4,
   "metadata": {},
   "outputs": [
    {
     "data": {
      "text/html": [
       "<div>\n",
       "<style scoped>\n",
       "    .dataframe tbody tr th:only-of-type {\n",
       "        vertical-align: middle;\n",
       "    }\n",
       "\n",
       "    .dataframe tbody tr th {\n",
       "        vertical-align: top;\n",
       "    }\n",
       "\n",
       "    .dataframe thead th {\n",
       "        text-align: right;\n",
       "    }\n",
       "</style>\n",
       "<table border=\"1\" class=\"dataframe\">\n",
       "  <thead>\n",
       "    <tr style=\"text-align: right;\">\n",
       "      <th></th>\n",
       "      <th>0</th>\n",
       "      <th>1</th>\n",
       "      <th>2</th>\n",
       "    </tr>\n",
       "  </thead>\n",
       "  <tbody>\n",
       "    <tr>\n",
       "      <th>0</th>\n",
       "      <td>235.8333</td>\n",
       "      <td>324.0343</td>\n",
       "      <td>478.3231</td>\n",
       "    </tr>\n",
       "    <tr>\n",
       "      <th>1</th>\n",
       "      <td>236.2708</td>\n",
       "      <td>325.6379</td>\n",
       "      <td>515.4564</td>\n",
       "    </tr>\n",
       "    <tr>\n",
       "      <th>2</th>\n",
       "      <td>238.0521</td>\n",
       "      <td>328.0897</td>\n",
       "      <td>517.0909</td>\n",
       "    </tr>\n",
       "    <tr>\n",
       "      <th>3</th>\n",
       "      <td>235.9063</td>\n",
       "      <td>NaN</td>\n",
       "      <td>514.8900</td>\n",
       "    </tr>\n",
       "    <tr>\n",
       "      <th>4</th>\n",
       "      <td>236.7604</td>\n",
       "      <td>268.8324</td>\n",
       "      <td>NaN</td>\n",
       "    </tr>\n",
       "    <tr>\n",
       "      <th>5</th>\n",
       "      <td>NaN</td>\n",
       "      <td>404.0480</td>\n",
       "      <td>486.0912</td>\n",
       "    </tr>\n",
       "    <tr>\n",
       "      <th>6</th>\n",
       "      <td>237.4167</td>\n",
       "      <td>391.2652</td>\n",
       "      <td>516.2330</td>\n",
       "    </tr>\n",
       "    <tr>\n",
       "      <th>7</th>\n",
       "      <td>238.6563</td>\n",
       "      <td>380.8241</td>\n",
       "      <td>NaN</td>\n",
       "    </tr>\n",
       "    <tr>\n",
       "      <th>8</th>\n",
       "      <td>237.6042</td>\n",
       "      <td>388.0230</td>\n",
       "      <td>435.3508</td>\n",
       "    </tr>\n",
       "    <tr>\n",
       "      <th>9</th>\n",
       "      <td>238.0313</td>\n",
       "      <td>206.4349</td>\n",
       "      <td>487.6750</td>\n",
       "    </tr>\n",
       "    <tr>\n",
       "      <th>10</th>\n",
       "      <td>235.0729</td>\n",
       "      <td>NaN</td>\n",
       "      <td>NaN</td>\n",
       "    </tr>\n",
       "    <tr>\n",
       "      <th>11</th>\n",
       "      <td>235.5313</td>\n",
       "      <td>400.0787</td>\n",
       "      <td>660.2347</td>\n",
       "    </tr>\n",
       "    <tr>\n",
       "      <th>12</th>\n",
       "      <td>NaN</td>\n",
       "      <td>411.2069</td>\n",
       "      <td>621.2346</td>\n",
       "    </tr>\n",
       "    <tr>\n",
       "      <th>13</th>\n",
       "      <td>234.4688</td>\n",
       "      <td>395.2343</td>\n",
       "      <td>611.3408</td>\n",
       "    </tr>\n",
       "    <tr>\n",
       "      <th>14</th>\n",
       "      <td>235.5000</td>\n",
       "      <td>344.8221</td>\n",
       "      <td>643.0863</td>\n",
       "    </tr>\n",
       "    <tr>\n",
       "      <th>15</th>\n",
       "      <td>235.6354</td>\n",
       "      <td>385.6432</td>\n",
       "      <td>642.3482</td>\n",
       "    </tr>\n",
       "    <tr>\n",
       "      <th>16</th>\n",
       "      <td>234.5521</td>\n",
       "      <td>401.6234</td>\n",
       "      <td>NaN</td>\n",
       "    </tr>\n",
       "    <tr>\n",
       "      <th>17</th>\n",
       "      <td>236.0000</td>\n",
       "      <td>409.6489</td>\n",
       "      <td>602.9347</td>\n",
       "    </tr>\n",
       "    <tr>\n",
       "      <th>18</th>\n",
       "      <td>235.2396</td>\n",
       "      <td>416.8795</td>\n",
       "      <td>589.3457</td>\n",
       "    </tr>\n",
       "    <tr>\n",
       "      <th>19</th>\n",
       "      <td>235.4896</td>\n",
       "      <td>NaN</td>\n",
       "      <td>556.3452</td>\n",
       "    </tr>\n",
       "    <tr>\n",
       "      <th>20</th>\n",
       "      <td>236.9688</td>\n",
       "      <td>NaN</td>\n",
       "      <td>538.3470</td>\n",
       "    </tr>\n",
       "  </tbody>\n",
       "</table>\n",
       "</div>"
      ],
      "text/plain": [
       "           0         1         2\n",
       "0   235.8333  324.0343  478.3231\n",
       "1   236.2708  325.6379  515.4564\n",
       "2   238.0521  328.0897  517.0909\n",
       "3   235.9063       NaN  514.8900\n",
       "4   236.7604  268.8324       NaN\n",
       "5        NaN  404.0480  486.0912\n",
       "6   237.4167  391.2652  516.2330\n",
       "7   238.6563  380.8241       NaN\n",
       "8   237.6042  388.0230  435.3508\n",
       "9   238.0313  206.4349  487.6750\n",
       "10  235.0729       NaN       NaN\n",
       "11  235.5313  400.0787  660.2347\n",
       "12       NaN  411.2069  621.2346\n",
       "13  234.4688  395.2343  611.3408\n",
       "14  235.5000  344.8221  643.0863\n",
       "15  235.6354  385.6432  642.3482\n",
       "16  234.5521  401.6234       NaN\n",
       "17  236.0000  409.6489  602.9347\n",
       "18  235.2396  416.8795  589.3457\n",
       "19  235.4896       NaN  556.3452\n",
       "20  236.9688       NaN  538.3470"
      ]
     },
     "execution_count": 4,
     "metadata": {},
     "output_type": "execute_result"
    }
   ],
   "source": [
    "data # 预览原始数据"
   ]
  },
  {
   "cell_type": "code",
   "execution_count": 5,
   "metadata": {},
   "outputs": [],
   "source": [
    "def plotinterp_column(s, n, k=5): # s 是 Series，n 是对应数据的 index，k 是插值范围\n",
    "    y = s[list(range(n-k, n)) + list(range(n+1, n+1+k))]   # 取当前数据的前后5个数据\n",
    "    y = y[y.notnull()]  # 取出数据中的非空值\n",
    "    return lagrange(y.index, list(y))(n) "
   ]
  },
  {
   "cell_type": "code",
   "execution_count": 6,
   "metadata": {},
   "outputs": [
    {
     "name": "stderr",
     "output_type": "stream",
     "text": [
      "/Users/onionkev/anaconda3/lib/python3.7/site-packages/pandas/core/series.py:842: FutureWarning: \n",
      "Passing list-likes to .loc or [] with any missing label will raise\n",
      "KeyError in the future, you can use .reindex() as an alternative.\n",
      "\n",
      "See the documentation here:\n",
      "https://pandas.pydata.org/pandas-docs/stable/indexing.html#deprecate-loc-reindex-listlike\n",
      "  return self.loc[key]\n"
     ]
    }
   ],
   "source": [
    "for i in data.columns:\n",
    "    col_na = data[i].isna()\n",
    "    for j in range(len(data)):\n",
    "        if col_na[j]:\n",
    "            data[i][j] = plotinterp_column(data[i], j)"
   ]
  },
  {
   "cell_type": "code",
   "execution_count": 7,
   "metadata": {},
   "outputs": [
    {
     "data": {
      "text/html": [
       "<div>\n",
       "<style scoped>\n",
       "    .dataframe tbody tr th:only-of-type {\n",
       "        vertical-align: middle;\n",
       "    }\n",
       "\n",
       "    .dataframe tbody tr th {\n",
       "        vertical-align: top;\n",
       "    }\n",
       "\n",
       "    .dataframe thead th {\n",
       "        text-align: right;\n",
       "    }\n",
       "</style>\n",
       "<table border=\"1\" class=\"dataframe\">\n",
       "  <thead>\n",
       "    <tr style=\"text-align: right;\">\n",
       "      <th></th>\n",
       "      <th>0</th>\n",
       "      <th>1</th>\n",
       "      <th>2</th>\n",
       "    </tr>\n",
       "  </thead>\n",
       "  <tbody>\n",
       "    <tr>\n",
       "      <th>0</th>\n",
       "      <td>235.833300</td>\n",
       "      <td>324.034300</td>\n",
       "      <td>478.323100</td>\n",
       "    </tr>\n",
       "    <tr>\n",
       "      <th>1</th>\n",
       "      <td>236.270800</td>\n",
       "      <td>325.637900</td>\n",
       "      <td>515.456400</td>\n",
       "    </tr>\n",
       "    <tr>\n",
       "      <th>2</th>\n",
       "      <td>238.052100</td>\n",
       "      <td>328.089700</td>\n",
       "      <td>517.090900</td>\n",
       "    </tr>\n",
       "    <tr>\n",
       "      <th>3</th>\n",
       "      <td>235.906300</td>\n",
       "      <td>203.462116</td>\n",
       "      <td>514.890000</td>\n",
       "    </tr>\n",
       "    <tr>\n",
       "      <th>4</th>\n",
       "      <td>236.760400</td>\n",
       "      <td>268.832400</td>\n",
       "      <td>493.352591</td>\n",
       "    </tr>\n",
       "    <tr>\n",
       "      <th>5</th>\n",
       "      <td>237.151181</td>\n",
       "      <td>404.048000</td>\n",
       "      <td>486.091200</td>\n",
       "    </tr>\n",
       "    <tr>\n",
       "      <th>6</th>\n",
       "      <td>237.416700</td>\n",
       "      <td>391.265200</td>\n",
       "      <td>516.233000</td>\n",
       "    </tr>\n",
       "    <tr>\n",
       "      <th>7</th>\n",
       "      <td>238.656300</td>\n",
       "      <td>380.824100</td>\n",
       "      <td>493.342382</td>\n",
       "    </tr>\n",
       "    <tr>\n",
       "      <th>8</th>\n",
       "      <td>237.604200</td>\n",
       "      <td>388.023000</td>\n",
       "      <td>435.350800</td>\n",
       "    </tr>\n",
       "    <tr>\n",
       "      <th>9</th>\n",
       "      <td>238.031300</td>\n",
       "      <td>206.434900</td>\n",
       "      <td>487.675000</td>\n",
       "    </tr>\n",
       "    <tr>\n",
       "      <th>10</th>\n",
       "      <td>235.072900</td>\n",
       "      <td>237.348072</td>\n",
       "      <td>609.193564</td>\n",
       "    </tr>\n",
       "    <tr>\n",
       "      <th>11</th>\n",
       "      <td>235.531300</td>\n",
       "      <td>400.078700</td>\n",
       "      <td>660.234700</td>\n",
       "    </tr>\n",
       "    <tr>\n",
       "      <th>12</th>\n",
       "      <td>235.314951</td>\n",
       "      <td>411.206900</td>\n",
       "      <td>621.234600</td>\n",
       "    </tr>\n",
       "    <tr>\n",
       "      <th>13</th>\n",
       "      <td>234.468800</td>\n",
       "      <td>395.234300</td>\n",
       "      <td>611.340800</td>\n",
       "    </tr>\n",
       "    <tr>\n",
       "      <th>14</th>\n",
       "      <td>235.500000</td>\n",
       "      <td>344.822100</td>\n",
       "      <td>643.086300</td>\n",
       "    </tr>\n",
       "    <tr>\n",
       "      <th>15</th>\n",
       "      <td>235.635400</td>\n",
       "      <td>385.643200</td>\n",
       "      <td>642.348200</td>\n",
       "    </tr>\n",
       "    <tr>\n",
       "      <th>16</th>\n",
       "      <td>234.552100</td>\n",
       "      <td>401.623400</td>\n",
       "      <td>618.197198</td>\n",
       "    </tr>\n",
       "    <tr>\n",
       "      <th>17</th>\n",
       "      <td>236.000000</td>\n",
       "      <td>409.648900</td>\n",
       "      <td>602.934700</td>\n",
       "    </tr>\n",
       "    <tr>\n",
       "      <th>18</th>\n",
       "      <td>235.239600</td>\n",
       "      <td>416.879500</td>\n",
       "      <td>589.345700</td>\n",
       "    </tr>\n",
       "    <tr>\n",
       "      <th>19</th>\n",
       "      <td>235.489600</td>\n",
       "      <td>420.748600</td>\n",
       "      <td>556.345200</td>\n",
       "    </tr>\n",
       "    <tr>\n",
       "      <th>20</th>\n",
       "      <td>236.968800</td>\n",
       "      <td>408.963200</td>\n",
       "      <td>538.347000</td>\n",
       "    </tr>\n",
       "  </tbody>\n",
       "</table>\n",
       "</div>"
      ],
      "text/plain": [
       "             0           1           2\n",
       "0   235.833300  324.034300  478.323100\n",
       "1   236.270800  325.637900  515.456400\n",
       "2   238.052100  328.089700  517.090900\n",
       "3   235.906300  203.462116  514.890000\n",
       "4   236.760400  268.832400  493.352591\n",
       "5   237.151181  404.048000  486.091200\n",
       "6   237.416700  391.265200  516.233000\n",
       "7   238.656300  380.824100  493.342382\n",
       "8   237.604200  388.023000  435.350800\n",
       "9   238.031300  206.434900  487.675000\n",
       "10  235.072900  237.348072  609.193564\n",
       "11  235.531300  400.078700  660.234700\n",
       "12  235.314951  411.206900  621.234600\n",
       "13  234.468800  395.234300  611.340800\n",
       "14  235.500000  344.822100  643.086300\n",
       "15  235.635400  385.643200  642.348200\n",
       "16  234.552100  401.623400  618.197198\n",
       "17  236.000000  409.648900  602.934700\n",
       "18  235.239600  416.879500  589.345700\n",
       "19  235.489600  420.748600  556.345200\n",
       "20  236.968800  408.963200  538.347000"
      ]
     },
     "execution_count": 7,
     "metadata": {},
     "output_type": "execute_result"
    }
   ],
   "source": [
    "data # 插值后的数据"
   ]
  },
  {
   "cell_type": "markdown",
   "metadata": {},
   "source": [
    "这部分只是重新温习拉格朗日插值法，对接下来的练习并没有实际作用"
   ]
  },
  {
   "cell_type": "markdown",
   "metadata": {},
   "source": [
    "## 预测模型"
   ]
  },
  {
   "cell_type": "markdown",
   "metadata": {},
   "source": [
    "### 读取指标数据并设置训练集和测试集"
   ]
  },
  {
   "cell_type": "code",
   "execution_count": 8,
   "metadata": {},
   "outputs": [],
   "source": [
    "datafile = './data/model.xls'"
   ]
  },
  {
   "cell_type": "code",
   "execution_count": 9,
   "metadata": {},
   "outputs": [],
   "source": [
    "df_model = pd.read_excel(datafile)"
   ]
  },
  {
   "cell_type": "code",
   "execution_count": 10,
   "metadata": {},
   "outputs": [
    {
     "data": {
      "text/html": [
       "<div>\n",
       "<style scoped>\n",
       "    .dataframe tbody tr th:only-of-type {\n",
       "        vertical-align: middle;\n",
       "    }\n",
       "\n",
       "    .dataframe tbody tr th {\n",
       "        vertical-align: top;\n",
       "    }\n",
       "\n",
       "    .dataframe thead th {\n",
       "        text-align: right;\n",
       "    }\n",
       "</style>\n",
       "<table border=\"1\" class=\"dataframe\">\n",
       "  <thead>\n",
       "    <tr style=\"text-align: right;\">\n",
       "      <th></th>\n",
       "      <th>电量趋势下降指标</th>\n",
       "      <th>线损指标</th>\n",
       "      <th>告警类指标</th>\n",
       "      <th>是否窃漏电</th>\n",
       "    </tr>\n",
       "  </thead>\n",
       "  <tbody>\n",
       "    <tr>\n",
       "      <th>0</th>\n",
       "      <td>4</td>\n",
       "      <td>1</td>\n",
       "      <td>1</td>\n",
       "      <td>1</td>\n",
       "    </tr>\n",
       "    <tr>\n",
       "      <th>1</th>\n",
       "      <td>4</td>\n",
       "      <td>0</td>\n",
       "      <td>4</td>\n",
       "      <td>1</td>\n",
       "    </tr>\n",
       "    <tr>\n",
       "      <th>2</th>\n",
       "      <td>2</td>\n",
       "      <td>1</td>\n",
       "      <td>1</td>\n",
       "      <td>1</td>\n",
       "    </tr>\n",
       "    <tr>\n",
       "      <th>3</th>\n",
       "      <td>9</td>\n",
       "      <td>0</td>\n",
       "      <td>0</td>\n",
       "      <td>0</td>\n",
       "    </tr>\n",
       "    <tr>\n",
       "      <th>4</th>\n",
       "      <td>3</td>\n",
       "      <td>1</td>\n",
       "      <td>0</td>\n",
       "      <td>0</td>\n",
       "    </tr>\n",
       "  </tbody>\n",
       "</table>\n",
       "</div>"
      ],
      "text/plain": [
       "   电量趋势下降指标  线损指标  告警类指标  是否窃漏电\n",
       "0         4     1      1      1\n",
       "1         4     0      4      1\n",
       "2         2     1      1      1\n",
       "3         9     0      0      0\n",
       "4         3     1      0      0"
      ]
     },
     "execution_count": 10,
     "metadata": {},
     "output_type": "execute_result"
    }
   ],
   "source": [
    "df_model.head()"
   ]
  },
  {
   "cell_type": "code",
   "execution_count": 11,
   "metadata": {},
   "outputs": [],
   "source": [
    "# 随机打乱数据的顺序\n",
    "idx_lst = list(df_model.index)\n",
    "pd.np.random.shuffle(idx_lst)\n",
    "\n",
    "df_model = df_model.iloc[idx_lst]"
   ]
  },
  {
   "cell_type": "code",
   "execution_count": 12,
   "metadata": {},
   "outputs": [],
   "source": [
    "prop = 0.8  # 设置训练集的比例"
   ]
  },
  {
   "cell_type": "code",
   "execution_count": 13,
   "metadata": {},
   "outputs": [],
   "source": [
    "train = df_model.iloc[:int(len(df_model)*prop), :]  # 提取训练集\n",
    "test = df_model.iloc[int(len(df_model)*prop):, :]   # 提取测试集"
   ]
  },
  {
   "cell_type": "code",
   "execution_count": 14,
   "metadata": {},
   "outputs": [
    {
     "data": {
      "text/plain": [
       "(291, 232, 59)"
      ]
     },
     "execution_count": 14,
     "metadata": {},
     "output_type": "execute_result"
    }
   ],
   "source": [
    "len(df_model), len(train), len(test)"
   ]
  },
  {
   "cell_type": "markdown",
   "metadata": {},
   "source": [
    "### 神经网络预测模型"
   ]
  },
  {
   "cell_type": "code",
   "execution_count": 15,
   "metadata": {},
   "outputs": [
    {
     "name": "stderr",
     "output_type": "stream",
     "text": [
      "Using TensorFlow backend.\n"
     ]
    }
   ],
   "source": [
    "from keras.models import Sequential\n",
    "from keras.layers.core import Dense"
   ]
  },
  {
   "cell_type": "code",
   "execution_count": 16,
   "metadata": {},
   "outputs": [],
   "source": [
    "# 取前三列作为 x，最后一列作为 y \n",
    "x_train = train.iloc[:,:3]\n",
    "y_train = train.iloc[:,3]"
   ]
  },
  {
   "cell_type": "code",
   "execution_count": 17,
   "metadata": {},
   "outputs": [],
   "source": [
    "x_test = test.iloc[:,:3]\n",
    "y_test = test.iloc[:,3]"
   ]
  },
  {
   "cell_type": "code",
   "execution_count": 18,
   "metadata": {},
   "outputs": [
    {
     "name": "stdout",
     "output_type": "stream",
     "text": [
      "WARNING:tensorflow:From /Users/onionkev/anaconda3/lib/python3.7/site-packages/tensorflow/python/framework/op_def_library.py:263: colocate_with (from tensorflow.python.framework.ops) is deprecated and will be removed in a future version.\n",
      "Instructions for updating:\n",
      "Colocations handled automatically by placer.\n"
     ]
    }
   ],
   "source": [
    "model = Sequential()\n",
    "model.add(Dense(10, activation='relu', input_dim=3))\n",
    "model.add(Dense(1, activation='sigmoid'))"
   ]
  },
  {
   "cell_type": "code",
   "execution_count": 19,
   "metadata": {},
   "outputs": [],
   "source": [
    "model.compile(loss='binary_crossentropy', optimizer='adam', metrics=['acc'])"
   ]
  },
  {
   "cell_type": "code",
   "execution_count": 20,
   "metadata": {},
   "outputs": [
    {
     "name": "stdout",
     "output_type": "stream",
     "text": [
      "WARNING:tensorflow:From /Users/onionkev/anaconda3/lib/python3.7/site-packages/tensorflow/python/ops/math_ops.py:3066: to_int32 (from tensorflow.python.ops.math_ops) is deprecated and will be removed in a future version.\n",
      "Instructions for updating:\n",
      "Use tf.cast instead.\n",
      "Epoch 1/100\n",
      "232/232 [==============================] - 1s 2ms/step - loss: 0.6910 - acc: 0.6466\n",
      "Epoch 2/100\n",
      "232/232 [==============================] - 0s 1ms/step - loss: 0.5707 - acc: 0.8276\n",
      "Epoch 3/100\n",
      "232/232 [==============================] - 0s 1ms/step - loss: 0.5252 - acc: 0.8621\n",
      "Epoch 4/100\n",
      "232/232 [==============================] - 0s 1ms/step - loss: 0.4949 - acc: 0.8621\n",
      "Epoch 5/100\n",
      "232/232 [==============================] - 0s 1ms/step - loss: 0.4680 - acc: 0.8621\n",
      "Epoch 6/100\n",
      "232/232 [==============================] - 0s 1ms/step - loss: 0.4434 - acc: 0.8621\n",
      "Epoch 7/100\n",
      "232/232 [==============================] - 0s 1ms/step - loss: 0.4243 - acc: 0.8621\n",
      "Epoch 8/100\n",
      "232/232 [==============================] - 0s 1ms/step - loss: 0.4012 - acc: 0.8621\n",
      "Epoch 9/100\n",
      "232/232 [==============================] - 0s 1ms/step - loss: 0.3792 - acc: 0.8664\n",
      "Epoch 10/100\n",
      "232/232 [==============================] - 0s 1ms/step - loss: 0.3614 - acc: 0.8750\n",
      "Epoch 11/100\n",
      "232/232 [==============================] - 0s 1ms/step - loss: 0.3453 - acc: 0.8922\n",
      "Epoch 12/100\n",
      "232/232 [==============================] - 0s 1ms/step - loss: 0.3305 - acc: 0.8966\n",
      "Epoch 13/100\n",
      "232/232 [==============================] - 0s 1ms/step - loss: 0.3144 - acc: 0.8922\n",
      "Epoch 14/100\n",
      "232/232 [==============================] - 0s 1ms/step - loss: 0.3035 - acc: 0.8922\n",
      "Epoch 15/100\n",
      "232/232 [==============================] - 0s 1ms/step - loss: 0.2919 - acc: 0.8922\n",
      "Epoch 16/100\n",
      "232/232 [==============================] - 0s 1ms/step - loss: 0.2816 - acc: 0.8879\n",
      "Epoch 17/100\n",
      "232/232 [==============================] - 0s 1ms/step - loss: 0.2696 - acc: 0.8922\n",
      "Epoch 18/100\n",
      "232/232 [==============================] - 0s 1ms/step - loss: 0.2627 - acc: 0.8922\n",
      "Epoch 19/100\n",
      "232/232 [==============================] - 0s 1ms/step - loss: 0.2551 - acc: 0.8922\n",
      "Epoch 20/100\n",
      "232/232 [==============================] - 0s 1ms/step - loss: 0.2467 - acc: 0.9052\n",
      "Epoch 21/100\n",
      "232/232 [==============================] - 0s 1ms/step - loss: 0.2482 - acc: 0.8966\n",
      "Epoch 22/100\n",
      "232/232 [==============================] - 0s 1ms/step - loss: 0.2344 - acc: 0.9052\n",
      "Epoch 23/100\n",
      "232/232 [==============================] - 0s 1ms/step - loss: 0.2325 - acc: 0.8879\n",
      "Epoch 24/100\n",
      "232/232 [==============================] - 0s 1ms/step - loss: 0.2278 - acc: 0.9009\n",
      "Epoch 25/100\n",
      "232/232 [==============================] - 0s 1ms/step - loss: 0.2268 - acc: 0.8966\n",
      "Epoch 26/100\n",
      "232/232 [==============================] - 0s 1ms/step - loss: 0.2212 - acc: 0.8922\n",
      "Epoch 27/100\n",
      "232/232 [==============================] - 0s 1ms/step - loss: 0.2167 - acc: 0.9009\n",
      "Epoch 28/100\n",
      "232/232 [==============================] - 0s 1ms/step - loss: 0.2139 - acc: 0.9052\n",
      "Epoch 29/100\n",
      "232/232 [==============================] - 0s 1ms/step - loss: 0.2119 - acc: 0.9138\n",
      "Epoch 30/100\n",
      "232/232 [==============================] - 0s 1ms/step - loss: 0.2073 - acc: 0.9267\n",
      "Epoch 31/100\n",
      "232/232 [==============================] - 0s 1ms/step - loss: 0.2072 - acc: 0.9095\n",
      "Epoch 32/100\n",
      "232/232 [==============================] - 0s 1ms/step - loss: 0.2033 - acc: 0.9052\n",
      "Epoch 33/100\n",
      "232/232 [==============================] - 0s 1ms/step - loss: 0.2011 - acc: 0.9052\n",
      "Epoch 34/100\n",
      "232/232 [==============================] - 0s 1ms/step - loss: 0.1993 - acc: 0.9052\n",
      "Epoch 35/100\n",
      "232/232 [==============================] - 0s 1ms/step - loss: 0.1967 - acc: 0.9224\n",
      "Epoch 36/100\n",
      "232/232 [==============================] - 0s 1ms/step - loss: 0.1973 - acc: 0.9095\n",
      "Epoch 37/100\n",
      "232/232 [==============================] - 0s 1ms/step - loss: 0.1959 - acc: 0.9181\n",
      "Epoch 38/100\n",
      "232/232 [==============================] - 0s 1ms/step - loss: 0.1952 - acc: 0.9138\n",
      "Epoch 39/100\n",
      "232/232 [==============================] - 0s 1ms/step - loss: 0.1926 - acc: 0.9224\n",
      "Epoch 40/100\n",
      "232/232 [==============================] - 0s 1ms/step - loss: 0.1922 - acc: 0.9181\n",
      "Epoch 41/100\n",
      "232/232 [==============================] - 0s 1ms/step - loss: 0.1889 - acc: 0.9267\n",
      "Epoch 42/100\n",
      "232/232 [==============================] - 0s 1ms/step - loss: 0.1864 - acc: 0.9267\n",
      "Epoch 43/100\n",
      "232/232 [==============================] - 0s 1ms/step - loss: 0.1863 - acc: 0.9224\n",
      "Epoch 44/100\n",
      "232/232 [==============================] - 0s 1ms/step - loss: 0.1856 - acc: 0.9181\n",
      "Epoch 45/100\n",
      "232/232 [==============================] - 0s 1ms/step - loss: 0.1841 - acc: 0.9310\n",
      "Epoch 46/100\n",
      "232/232 [==============================] - 0s 1ms/step - loss: 0.1843 - acc: 0.9353\n",
      "Epoch 47/100\n",
      "232/232 [==============================] - 0s 1ms/step - loss: 0.1828 - acc: 0.9397\n",
      "Epoch 48/100\n",
      "232/232 [==============================] - 0s 1ms/step - loss: 0.1802 - acc: 0.9267\n",
      "Epoch 49/100\n",
      "232/232 [==============================] - 0s 1ms/step - loss: 0.1830 - acc: 0.9224\n",
      "Epoch 50/100\n",
      "232/232 [==============================] - 0s 1ms/step - loss: 0.1785 - acc: 0.9267\n",
      "Epoch 51/100\n",
      "232/232 [==============================] - 0s 1ms/step - loss: 0.1790 - acc: 0.9267\n",
      "Epoch 52/100\n",
      "232/232 [==============================] - 0s 1ms/step - loss: 0.1772 - acc: 0.9181\n",
      "Epoch 53/100\n",
      "232/232 [==============================] - 0s 1ms/step - loss: 0.1764 - acc: 0.9267\n",
      "Epoch 54/100\n",
      "232/232 [==============================] - 0s 1ms/step - loss: 0.1760 - acc: 0.9397\n",
      "Epoch 55/100\n",
      "232/232 [==============================] - 0s 1ms/step - loss: 0.1725 - acc: 0.9397\n",
      "Epoch 56/100\n",
      "232/232 [==============================] - 0s 1ms/step - loss: 0.1767 - acc: 0.9310\n",
      "Epoch 57/100\n",
      "232/232 [==============================] - 0s 1ms/step - loss: 0.1757 - acc: 0.9353\n",
      "Epoch 58/100\n",
      "232/232 [==============================] - 0s 1ms/step - loss: 0.1733 - acc: 0.9310\n",
      "Epoch 59/100\n",
      "232/232 [==============================] - 0s 1ms/step - loss: 0.1700 - acc: 0.9483\n",
      "Epoch 60/100\n",
      "232/232 [==============================] - 0s 2ms/step - loss: 0.1780 - acc: 0.9181\n",
      "Epoch 61/100\n",
      "232/232 [==============================] - 0s 1ms/step - loss: 0.1706 - acc: 0.9353\n",
      "Epoch 62/100\n",
      "232/232 [==============================] - 0s 1ms/step - loss: 0.1721 - acc: 0.9440\n",
      "Epoch 63/100\n",
      "232/232 [==============================] - 0s 1ms/step - loss: 0.1678 - acc: 0.9440\n",
      "Epoch 64/100\n",
      "232/232 [==============================] - 0s 1ms/step - loss: 0.1715 - acc: 0.9224\n",
      "Epoch 65/100\n",
      "232/232 [==============================] - 0s 1ms/step - loss: 0.1707 - acc: 0.9397\n",
      "Epoch 66/100\n",
      "232/232 [==============================] - 0s 1ms/step - loss: 0.1718 - acc: 0.9310\n",
      "Epoch 67/100\n",
      "232/232 [==============================] - 0s 1ms/step - loss: 0.1667 - acc: 0.9353\n",
      "Epoch 68/100\n",
      "232/232 [==============================] - 0s 1ms/step - loss: 0.1710 - acc: 0.9310\n",
      "Epoch 69/100\n",
      "232/232 [==============================] - 0s 1ms/step - loss: 0.1689 - acc: 0.9397\n",
      "Epoch 70/100\n",
      "232/232 [==============================] - 0s 1ms/step - loss: 0.1672 - acc: 0.9483\n",
      "Epoch 71/100\n",
      "232/232 [==============================] - 0s 1ms/step - loss: 0.1673 - acc: 0.9353\n",
      "Epoch 72/100\n",
      "232/232 [==============================] - 0s 1ms/step - loss: 0.1654 - acc: 0.9397\n",
      "Epoch 73/100\n",
      "232/232 [==============================] - 0s 1ms/step - loss: 0.1658 - acc: 0.9397\n",
      "Epoch 74/100\n",
      "232/232 [==============================] - 0s 1ms/step - loss: 0.1657 - acc: 0.9526\n",
      "Epoch 75/100\n",
      "232/232 [==============================] - 0s 1ms/step - loss: 0.1647 - acc: 0.9310\n",
      "Epoch 76/100\n",
      "232/232 [==============================] - 0s 1ms/step - loss: 0.1663 - acc: 0.9353\n",
      "Epoch 77/100\n",
      "232/232 [==============================] - 0s 1ms/step - loss: 0.1639 - acc: 0.9440\n",
      "Epoch 78/100\n",
      "232/232 [==============================] - 0s 1ms/step - loss: 0.1628 - acc: 0.9483\n",
      "Epoch 79/100\n",
      "232/232 [==============================] - 0s 1ms/step - loss: 0.1636 - acc: 0.9483\n",
      "Epoch 80/100\n",
      "232/232 [==============================] - 0s 1ms/step - loss: 0.1626 - acc: 0.9526\n",
      "Epoch 81/100\n",
      "232/232 [==============================] - 0s 1ms/step - loss: 0.1630 - acc: 0.9483\n",
      "Epoch 82/100\n",
      "232/232 [==============================] - 0s 1ms/step - loss: 0.1613 - acc: 0.9440\n",
      "Epoch 83/100\n",
      "232/232 [==============================] - 0s 1ms/step - loss: 0.1651 - acc: 0.9440\n",
      "Epoch 84/100\n",
      "232/232 [==============================] - 0s 1ms/step - loss: 0.1630 - acc: 0.9310\n",
      "Epoch 85/100\n",
      "232/232 [==============================] - 0s 1ms/step - loss: 0.1615 - acc: 0.9397\n",
      "Epoch 86/100\n",
      "232/232 [==============================] - 0s 1ms/step - loss: 0.1586 - acc: 0.9526\n",
      "Epoch 87/100\n",
      "232/232 [==============================] - 0s 2ms/step - loss: 0.1622 - acc: 0.9440\n",
      "Epoch 88/100\n",
      "232/232 [==============================] - 0s 1ms/step - loss: 0.1586 - acc: 0.9483\n",
      "Epoch 89/100\n",
      "232/232 [==============================] - 0s 1ms/step - loss: 0.1576 - acc: 0.9526\n",
      "Epoch 90/100\n",
      "232/232 [==============================] - 0s 1ms/step - loss: 0.1565 - acc: 0.9440\n",
      "Epoch 91/100\n",
      "232/232 [==============================] - 0s 1ms/step - loss: 0.1605 - acc: 0.9483\n",
      "Epoch 92/100\n",
      "232/232 [==============================] - 0s 1ms/step - loss: 0.1581 - acc: 0.9483\n",
      "Epoch 93/100\n",
      "232/232 [==============================] - 0s 1ms/step - loss: 0.1577 - acc: 0.9440\n",
      "Epoch 94/100\n",
      "232/232 [==============================] - 0s 1ms/step - loss: 0.1584 - acc: 0.9397\n",
      "Epoch 95/100\n",
      "232/232 [==============================] - 0s 1ms/step - loss: 0.1563 - acc: 0.9569\n",
      "Epoch 96/100\n",
      "232/232 [==============================] - 0s 1ms/step - loss: 0.1574 - acc: 0.9440A: 0s - loss: 0.1749 - acc: 0.935\n",
      "Epoch 97/100\n",
      "232/232 [==============================] - 0s 1ms/step - loss: 0.1527 - acc: 0.9397\n",
      "Epoch 98/100\n",
      "232/232 [==============================] - 0s 1ms/step - loss: 0.1571 - acc: 0.9483\n",
      "Epoch 99/100\n",
      "232/232 [==============================] - 0s 1ms/step - loss: 0.1548 - acc: 0.9569\n",
      "Epoch 100/100\n",
      "232/232 [==============================] - 0s 1ms/step - loss: 0.1575 - acc: 0.9483\n"
     ]
    },
    {
     "data": {
      "text/plain": [
       "<keras.callbacks.History at 0xb266a5630>"
      ]
     },
     "execution_count": 20,
     "metadata": {},
     "output_type": "execute_result"
    }
   ],
   "source": [
    "model.fit(x_train, y_train, epochs=100, batch_size=1)"
   ]
  },
  {
   "cell_type": "code",
   "execution_count": 21,
   "metadata": {},
   "outputs": [],
   "source": [
    "pred_train = model.predict_classes(x_train); \n",
    "pred_test = model.predict_classes(x_test);"
   ]
  },
  {
   "cell_type": "markdown",
   "metadata": {},
   "source": [
    "#### 预测结果"
   ]
  },
  {
   "cell_type": "code",
   "execution_count": 22,
   "metadata": {},
   "outputs": [],
   "source": [
    "from sklearn.metrics import confusion_matrix\n",
    "import matplotlib.pyplot as plt"
   ]
  },
  {
   "cell_type": "code",
   "execution_count": 23,
   "metadata": {},
   "outputs": [],
   "source": [
    "cm_train = confusion_matrix(pred_train, y_train)\n",
    "cm_test = confusion_matrix(pred_test, y_test)"
   ]
  },
  {
   "cell_type": "code",
   "execution_count": 24,
   "metadata": {},
   "outputs": [],
   "source": [
    "def plot_cm(cm):\n",
    "    plt.matshow(cm, cmap=plt.cm.autumn_r)\n",
    "    for i in range(cm.shape[0]):\n",
    "        for j in range(cm.shape[1]):\n",
    "            plt.annotate(cm[i,j], xy=(i,j),horizontalalignment='center', verticalalignment='center')\n",
    "    plt.ylabel('True Label')\n",
    "    plt.xlabel('Predicted Label')\n",
    "    # plt.yticks([0,1], ['Bad', 'Good'])\n",
    "    # plt.xticks([0,1], ['Bad', 'Good'])\n",
    "    plt.show()"
   ]
  },
  {
   "cell_type": "code",
   "execution_count": 25,
   "metadata": {},
   "outputs": [
    {
     "name": "stdout",
     "output_type": "stream",
     "text": [
      "232/232 [==============================] - 0s 219us/step\n"
     ]
    },
    {
     "data": {
      "text/plain": [
       "[0.1506773641911046, 0.9568965517241379]"
      ]
     },
     "execution_count": 25,
     "metadata": {},
     "output_type": "execute_result"
    }
   ],
   "source": [
    "model.evaluate(x_train, y_train)"
   ]
  },
  {
   "cell_type": "code",
   "execution_count": 26,
   "metadata": {},
   "outputs": [
    {
     "data": {
      "image/png": "[encoded data removed]",
      "text/plain": [
       "<Figure size 288x288 with 1 Axes>"
      ]
     },
     "metadata": {
      "needs_background": "light"
     },
     "output_type": "display_data"
    }
   ],
   "source": [
    "plot_cm(cm_train)"
   ]
  },
  {
   "cell_type": "code",
   "execution_count": 27,
   "metadata": {},
   "outputs": [
    {
     "name": "stdout",
     "output_type": "stream",
     "text": [
      "59/59 [==============================] - 0s 61us/step\n"
     ]
    },
    {
     "data": {
      "text/plain": [
       "[0.30518017886048654, 0.8644067927942438]"
      ]
     },
     "execution_count": 27,
     "metadata": {},
     "output_type": "execute_result"
    }
   ],
   "source": [
    "model.evaluate(x_test, y_test)"
   ]
  },
  {
   "cell_type": "code",
   "execution_count": 28,
   "metadata": {},
   "outputs": [
    {
     "data": {
      "image/png": "[encoded data removed]",
      "text/plain": [
       "<Figure size 288x288 with 1 Axes>"
      ]
     },
     "metadata": {
      "needs_background": "light"
     },
     "output_type": "display_data"
    }
   ],
   "source": [
    "plot_cm(cm_test)"
   ]
  },
  {
   "cell_type": "markdown",
   "metadata": {},
   "source": [
    "### CART决策树"
   ]
  },
  {
   "cell_type": "code",
   "execution_count": 29,
   "metadata": {},
   "outputs": [],
   "source": [
    "from sklearn.tree import DecisionTreeClassifier"
   ]
  },
  {
   "cell_type": "code",
   "execution_count": 30,
   "metadata": {},
   "outputs": [],
   "source": [
    "tree = DecisionTreeClassifier()"
   ]
  },
  {
   "cell_type": "code",
   "execution_count": 31,
   "metadata": {},
   "outputs": [
    {
     "data": {
      "text/plain": [
       "DecisionTreeClassifier(class_weight=None, criterion='gini', max_depth=None,\n",
       "            max_features=None, max_leaf_nodes=None,\n",
       "            min_impurity_decrease=0.0, min_impurity_split=None,\n",
       "            min_samples_leaf=1, min_samples_split=2,\n",
       "            min_weight_fraction_leaf=0.0, presort=False, random_state=None,\n",
       "            splitter='best')"
      ]
     },
     "execution_count": 31,
     "metadata": {},
     "output_type": "execute_result"
    }
   ],
   "source": [
    "tree.fit(x_train, y_train)"
   ]
  },
  {
   "cell_type": "code",
   "execution_count": 32,
   "metadata": {},
   "outputs": [],
   "source": [
    "tpred_train = tree.predict(x_train)\n",
    "tpred_test = tree.predict(x_test)"
   ]
  },
  {
   "cell_type": "code",
   "execution_count": 33,
   "metadata": {},
   "outputs": [],
   "source": [
    "tcm_train = confusion_matrix(tpred_train, y_train)\n",
    "tcm_test = confusion_matrix(tpred_test, y_test)"
   ]
  },
  {
   "cell_type": "markdown",
   "metadata": {},
   "source": [
    "#### 预测结果"
   ]
  },
  {
   "cell_type": "code",
   "execution_count": 34,
   "metadata": {},
   "outputs": [
    {
     "data": {
      "image/png": "[encoded data removed]",
      "text/plain": [
       "<Figure size 288x288 with 1 Axes>"
      ]
     },
     "metadata": {
      "needs_background": "light"
     },
     "output_type": "display_data"
    }
   ],
   "source": [
    "plot_cm(tcm_train)"
   ]
  },
  {
   "cell_type": "code",
   "execution_count": 35,
   "metadata": {},
   "outputs": [
    {
     "data": {
      "image/png": "[encoded data removed]",
      "text/plain": [
       "<Figure size 288x288 with 1 Axes>"
      ]
     },
     "metadata": {
      "needs_background": "light"
     },
     "output_type": "display_data"
    }
   ],
   "source": [
    "plot_cm(tcm_test)"
   ]
  },
  {
   "cell_type": "markdown",
   "metadata": {},
   "source": [
    "#### 决策树可视化"
   ]
  },
  {
   "cell_type": "code",
   "execution_count": 36,
   "metadata": {},
   "outputs": [],
   "source": [
    "from sklearn.tree import export_graphviz\n",
    "from IPython.display import display\n",
    "import graphviz\n",
    "import re"
   ]
  },
  {
   "cell_type": "code",
   "execution_count": 37,
   "metadata": {},
   "outputs": [],
   "source": [
    "f = export_graphviz(tree, feature_names=x_train.columns, max_depth=2, out_file=None, filled=True,\n",
    "                  special_characters=True, rotate=True)"
   ]
  },
  {
   "cell_type": "code",
   "execution_count": 38,
   "metadata": {},
   "outputs": [
    {
     "data": {
      "image/svg+xml": [
       "<?xml version=\"1.0\" encoding=\"UTF-8\" standalone=\"no\"?>\n",
       "<!DOCTYPE svg PUBLIC \"-//W3C//DTD SVG 1.1//EN\"\n",
       " \"http://www.w3.org/Graphics/SVG/1.1/DTD/svg11.dtd\">\n",
       "<!-- Generated by graphviz version 2.40.1 (20161225.0304)\n",
       " -->\n",
       "<!-- Title: Tree Pages: 1 -->\n",
       "<svg width=\"699pt\" height=\"422pt\"\n",
       " viewBox=\"0.00 0.00 698.63 422.00\" xmlns=\"http://www.w3.org/2000/svg\" xmlns:xlink=\"http://www.w3.org/1999/xlink\">\n",
       "<g id=\"graph0\" class=\"graph\" transform=\"scale(1 1) rotate(0) translate(4 418)\">\n",
       "<title>Tree</title>\n",
       "<polygon fill=\"#ffffff\" stroke=\"transparent\" points=\"-4,4 -4,-418 694.6334,-418 694.6334,4 -4,4\"/>\n",
       "<!-- 0 -->\n",
       "<g id=\"node1\" class=\"node\">\n",
       "<title>0</title>\n",
       "<polygon fill=\"#e58139\" fill-opacity=\"0.839216\" stroke=\"#000000\" points=\"171.8171,-244.6011 11.4497,-244.6011 11.4497,-175.3989 171.8171,-175.3989 171.8171,-244.6011\"/>\n",
       "<text text-anchor=\"start\" x=\"19.5416\" y=\"-229.6\" font-family=\"Times,serif\" font-size=\"14.00\" fill=\"#000000\">电量趋势下降指标 ≤ 4.5</text>\n",
       "<text text-anchor=\"start\" x=\"57.546\" y=\"-215.6\" font-family=\"Times,serif\" font-size=\"14.00\" fill=\"#000000\">gini = 0.238</text>\n",
       "<text text-anchor=\"start\" x=\"51.1339\" y=\"-201.6\" font-family=\"Times,serif\" font-size=\"14.00\" fill=\"#000000\">samples = 232</text>\n",
       "<text text-anchor=\"start\" x=\"43.3648\" y=\"-187.6\" font-family=\"Times,serif\" font-size=\"14.00\" fill=\"#000000\">value = [200, 32]</text>\n",
       "</g>\n",
       "<!-- 1 -->\n",
       "<g id=\"node2\" class=\"node\">\n",
       "<title>1</title>\n",
       "<polygon fill=\"#e58139\" fill-opacity=\"0.960784\" stroke=\"#000000\" points=\"352.8171,-287.6011 234.4497,-287.6011 234.4497,-218.3989 352.8171,-218.3989 352.8171,-287.6011\"/>\n",
       "<text text-anchor=\"start\" x=\"242.5416\" y=\"-272.6\" font-family=\"Times,serif\" font-size=\"14.00\" fill=\"#000000\">告警类指标 ≤ 3.5</text>\n",
       "<text text-anchor=\"start\" x=\"259.546\" y=\"-258.6\" font-family=\"Times,serif\" font-size=\"14.00\" fill=\"#000000\">gini = 0.071</text>\n",
       "<text text-anchor=\"start\" x=\"253.1339\" y=\"-244.6\" font-family=\"Times,serif\" font-size=\"14.00\" fill=\"#000000\">samples = 189</text>\n",
       "<text text-anchor=\"start\" x=\"248.8648\" y=\"-230.6\" font-family=\"Times,serif\" font-size=\"14.00\" fill=\"#000000\">value = [182, 7]</text>\n",
       "</g>\n",
       "<!-- 0&#45;&gt;1 -->\n",
       "<g id=\"edge1\" class=\"edge\">\n",
       "<title>0&#45;&gt;1</title>\n",
       "<path fill=\"none\" stroke=\"#000000\" d=\"M171.7593,-227.0565C189.2543,-230.7807 207.6231,-234.6909 224.64,-238.3133\"/>\n",
       "<polygon fill=\"#000000\" stroke=\"#000000\" points=\"223.9766,-241.7504 234.4862,-240.4093 225.4341,-234.9038 223.9766,-241.7504\"/>\n",
       "<text text-anchor=\"middle\" x=\"213.5154\" y=\"-249.8189\" font-family=\"Times,serif\" font-size=\"14.00\" fill=\"#000000\">True</text>\n",
       "</g>\n",
       "<!-- 26 -->\n",
       "<g id=\"node9\" class=\"node\">\n",
       "<title>26</title>\n",
       "<polygon fill=\"#399de5\" fill-opacity=\"0.278431\" stroke=\"#000000\" points=\"346.1715,-197.6011 241.0953,-197.6011 241.0953,-128.3989 346.1715,-128.3989 346.1715,-197.6011\"/>\n",
       "<text text-anchor=\"start\" x=\"249.5416\" y=\"-182.6\" font-family=\"Times,serif\" font-size=\"14.00\" fill=\"#000000\">线损指标 ≤ 0.5</text>\n",
       "<text text-anchor=\"start\" x=\"259.546\" y=\"-168.6\" font-family=\"Times,serif\" font-size=\"14.00\" fill=\"#000000\">gini = 0.487</text>\n",
       "<text text-anchor=\"start\" x=\"256.6339\" y=\"-154.6\" font-family=\"Times,serif\" font-size=\"14.00\" fill=\"#000000\">samples = 43</text>\n",
       "<text text-anchor=\"start\" x=\"248.8648\" y=\"-140.6\" font-family=\"Times,serif\" font-size=\"14.00\" fill=\"#000000\">value = [18, 25]</text>\n",
       "</g>\n",
       "<!-- 0&#45;&gt;26 -->\n",
       "<g id=\"edge8\" class=\"edge\">\n",
       "<title>0&#45;&gt;26</title>\n",
       "<path fill=\"none\" stroke=\"#000000\" d=\"M171.7593,-191.3569C191.4603,-186.7729 212.2694,-181.9312 231.0082,-177.5712\"/>\n",
       "<polygon fill=\"#000000\" stroke=\"#000000\" points=\"231.946,-180.9466 240.8926,-175.2714 230.3596,-174.1287 231.946,-180.9466\"/>\n",
       "<text text-anchor=\"middle\" x=\"219.6687\" y=\"-157.8597\" font-family=\"Times,serif\" font-size=\"14.00\" fill=\"#000000\">False</text>\n",
       "</g>\n",
       "<!-- 2 -->\n",
       "<g id=\"node3\" class=\"node\">\n",
       "<title>2</title>\n",
       "<polygon fill=\"#e58139\" fill-opacity=\"0.984314\" stroke=\"#000000\" points=\"553.8171,-376.6011 435.4497,-376.6011 435.4497,-307.3989 553.8171,-307.3989 553.8171,-376.6011\"/>\n",
       "<text text-anchor=\"start\" x=\"443.5416\" y=\"-361.6\" font-family=\"Times,serif\" font-size=\"14.00\" fill=\"#000000\">告警类指标 ≤ 2.5</text>\n",
       "<text text-anchor=\"start\" x=\"460.546\" y=\"-347.6\" font-family=\"Times,serif\" font-size=\"14.00\" fill=\"#000000\">gini = 0.032</text>\n",
       "<text text-anchor=\"start\" x=\"454.1339\" y=\"-333.6\" font-family=\"Times,serif\" font-size=\"14.00\" fill=\"#000000\">samples = 183</text>\n",
       "<text text-anchor=\"start\" x=\"449.8648\" y=\"-319.6\" font-family=\"Times,serif\" font-size=\"14.00\" fill=\"#000000\">value = [180, 3]</text>\n",
       "</g>\n",
       "<!-- 1&#45;&gt;2 -->\n",
       "<g id=\"edge2\" class=\"edge\">\n",
       "<title>1&#45;&gt;2</title>\n",
       "<path fill=\"none\" stroke=\"#000000\" d=\"M352.8529,-279.2216C375.8547,-289.4065 402.3485,-301.1375 426.1627,-311.6821\"/>\n",
       "<polygon fill=\"#000000\" stroke=\"#000000\" points=\"424.9293,-314.9637 435.4902,-315.8122 427.7635,-308.5631 424.9293,-314.9637\"/>\n",
       "</g>\n",
       "<!-- 21 -->\n",
       "<g id=\"node6\" class=\"node\">\n",
       "<title>21</title>\n",
       "<polygon fill=\"#399de5\" fill-opacity=\"0.498039\" stroke=\"#000000\" points=\"546.8172,-287.6011 442.4496,-287.6011 442.4496,-218.3989 546.8172,-218.3989 546.8172,-287.6011\"/>\n",
       "<text text-anchor=\"start\" x=\"450.5416\" y=\"-272.6\" font-family=\"Times,serif\" font-size=\"14.00\" fill=\"#000000\">线损指标 ≤ 0.5</text>\n",
       "<text text-anchor=\"start\" x=\"460.546\" y=\"-258.6\" font-family=\"Times,serif\" font-size=\"14.00\" fill=\"#000000\">gini = 0.444</text>\n",
       "<text text-anchor=\"start\" x=\"461.1339\" y=\"-244.6\" font-family=\"Times,serif\" font-size=\"14.00\" fill=\"#000000\">samples = 6</text>\n",
       "<text text-anchor=\"start\" x=\"456.8648\" y=\"-230.6\" font-family=\"Times,serif\" font-size=\"14.00\" fill=\"#000000\">value = [2, 4]</text>\n",
       "</g>\n",
       "<!-- 1&#45;&gt;21 -->\n",
       "<g id=\"edge5\" class=\"edge\">\n",
       "<title>1&#45;&gt;21</title>\n",
       "<path fill=\"none\" stroke=\"#000000\" d=\"M352.8529,-253C377.7885,-253 406.8278,-253 432.1085,-253\"/>\n",
       "<polygon fill=\"#000000\" stroke=\"#000000\" points=\"432.3232,-256.5001 442.3232,-253 432.3231,-249.5001 432.3232,-256.5001\"/>\n",
       "</g>\n",
       "<!-- 3 -->\n",
       "<g id=\"node4\" class=\"node\">\n",
       "<title>3</title>\n",
       "<polygon fill=\"#c0c0c0\" stroke=\"#000000\" points=\"686.6334,-414 632.6334,-414 632.6334,-378 686.6334,-378 686.6334,-414\"/>\n",
       "<text text-anchor=\"middle\" x=\"659.6334\" y=\"-391.8\" font-family=\"Times,serif\" font-size=\"14.00\" fill=\"#000000\">(...)</text>\n",
       "</g>\n",
       "<!-- 2&#45;&gt;3 -->\n",
       "<g id=\"edge3\" class=\"edge\">\n",
       "<title>2&#45;&gt;3</title>\n",
       "<path fill=\"none\" stroke=\"#000000\" d=\"M553.7361,-361.3427C576.6768,-368.8506 602.2488,-377.2196 622.516,-383.8525\"/>\n",
       "<polygon fill=\"#000000\" stroke=\"#000000\" points=\"621.7033,-387.2691 632.2959,-387.0532 623.8806,-380.6163 621.7033,-387.2691\"/>\n",
       "</g>\n",
       "<!-- 18 -->\n",
       "<g id=\"node5\" class=\"node\">\n",
       "<title>18</title>\n",
       "<polygon fill=\"#c0c0c0\" stroke=\"#000000\" points=\"686.6334,-360 632.6334,-360 632.6334,-324 686.6334,-324 686.6334,-360\"/>\n",
       "<text text-anchor=\"middle\" x=\"659.6334\" y=\"-337.8\" font-family=\"Times,serif\" font-size=\"14.00\" fill=\"#000000\">(...)</text>\n",
       "</g>\n",
       "<!-- 2&#45;&gt;18 -->\n",
       "<g id=\"edge4\" class=\"edge\">\n",
       "<title>2&#45;&gt;18</title>\n",
       "<path fill=\"none\" stroke=\"#000000\" d=\"M553.7361,-342C576.5721,-342 602.0153,-342 622.238,-342\"/>\n",
       "<polygon fill=\"#000000\" stroke=\"#000000\" points=\"622.2959,-345.5001 632.2959,-342 622.2959,-338.5001 622.2959,-345.5001\"/>\n",
       "</g>\n",
       "<!-- 22 -->\n",
       "<g id=\"node7\" class=\"node\">\n",
       "<title>22</title>\n",
       "<polygon fill=\"#c0c0c0\" stroke=\"#000000\" points=\"686.6334,-306 632.6334,-306 632.6334,-270 686.6334,-270 686.6334,-306\"/>\n",
       "<text text-anchor=\"middle\" x=\"659.6334\" y=\"-283.8\" font-family=\"Times,serif\" font-size=\"14.00\" fill=\"#000000\">(...)</text>\n",
       "</g>\n",
       "<!-- 21&#45;&gt;22 -->\n",
       "<g id=\"edge6\" class=\"edge\">\n",
       "<title>21&#45;&gt;22</title>\n",
       "<path fill=\"none\" stroke=\"#000000\" d=\"M546.8404,-264.0742C571.2921,-269.2609 599.8666,-275.3222 622.1367,-280.0462\"/>\n",
       "<polygon fill=\"#000000\" stroke=\"#000000\" points=\"621.6931,-283.5299 632.2018,-282.1812 623.1457,-276.6822 621.6931,-283.5299\"/>\n",
       "</g>\n",
       "<!-- 25 -->\n",
       "<g id=\"node8\" class=\"node\">\n",
       "<title>25</title>\n",
       "<polygon fill=\"#c0c0c0\" stroke=\"#000000\" points=\"686.6334,-252 632.6334,-252 632.6334,-216 686.6334,-216 686.6334,-252\"/>\n",
       "<text text-anchor=\"middle\" x=\"659.6334\" y=\"-229.8\" font-family=\"Times,serif\" font-size=\"14.00\" fill=\"#000000\">(...)</text>\n",
       "</g>\n",
       "<!-- 21&#45;&gt;25 -->\n",
       "<g id=\"edge7\" class=\"edge\">\n",
       "<title>21&#45;&gt;25</title>\n",
       "<path fill=\"none\" stroke=\"#000000\" d=\"M546.8404,-246.9883C571.2921,-244.1726 599.8666,-240.8822 622.1367,-238.3178\"/>\n",
       "<polygon fill=\"#000000\" stroke=\"#000000\" points=\"622.6678,-241.7799 632.2018,-237.1588 621.867,-234.8258 622.6678,-241.7799\"/>\n",
       "</g>\n",
       "<!-- 27 -->\n",
       "<g id=\"node10\" class=\"node\">\n",
       "<title>27</title>\n",
       "<polygon fill=\"#e58139\" fill-opacity=\"0.858824\" stroke=\"#000000\" points=\"574.8171,-197.6011 414.4497,-197.6011 414.4497,-128.3989 574.8171,-128.3989 574.8171,-197.6011\"/>\n",
       "<text text-anchor=\"start\" x=\"422.5416\" y=\"-182.6\" font-family=\"Times,serif\" font-size=\"14.00\" fill=\"#000000\">电量趋势下降指标 ≤ 8.0</text>\n",
       "<text text-anchor=\"start\" x=\"460.546\" y=\"-168.6\" font-family=\"Times,serif\" font-size=\"14.00\" fill=\"#000000\">gini = 0.219</text>\n",
       "<text text-anchor=\"start\" x=\"457.6339\" y=\"-154.6\" font-family=\"Times,serif\" font-size=\"14.00\" fill=\"#000000\">samples = 16</text>\n",
       "<text text-anchor=\"start\" x=\"453.3648\" y=\"-140.6\" font-family=\"Times,serif\" font-size=\"14.00\" fill=\"#000000\">value = [14, 2]</text>\n",
       "</g>\n",
       "<!-- 26&#45;&gt;27 -->\n",
       "<g id=\"edge9\" class=\"edge\">\n",
       "<title>26&#45;&gt;27</title>\n",
       "<path fill=\"none\" stroke=\"#000000\" d=\"M346.1812,-163C363.9928,-163 384.4291,-163 404.3268,-163\"/>\n",
       "<polygon fill=\"#000000\" stroke=\"#000000\" points=\"404.3506,-166.5001 414.3506,-163 404.3506,-159.5001 404.3506,-166.5001\"/>\n",
       "</g>\n",
       "<!-- 38 -->\n",
       "<g id=\"node13\" class=\"node\">\n",
       "<title>38</title>\n",
       "<polygon fill=\"#399de5\" fill-opacity=\"0.827451\" stroke=\"#000000\" points=\"553.8171,-106.6011 435.4497,-106.6011 435.4497,-37.3989 553.8171,-37.3989 553.8171,-106.6011\"/>\n",
       "<text text-anchor=\"start\" x=\"443.5416\" y=\"-91.6\" font-family=\"Times,serif\" font-size=\"14.00\" fill=\"#000000\">告警类指标 ≤ 0.5</text>\n",
       "<text text-anchor=\"start\" x=\"460.546\" y=\"-77.6\" font-family=\"Times,serif\" font-size=\"14.00\" fill=\"#000000\">gini = 0.252</text>\n",
       "<text text-anchor=\"start\" x=\"457.6339\" y=\"-63.6\" font-family=\"Times,serif\" font-size=\"14.00\" fill=\"#000000\">samples = 27</text>\n",
       "<text text-anchor=\"start\" x=\"453.3648\" y=\"-49.6\" font-family=\"Times,serif\" font-size=\"14.00\" fill=\"#000000\">value = [4, 23]</text>\n",
       "</g>\n",
       "<!-- 26&#45;&gt;38 -->\n",
       "<g id=\"edge12\" class=\"edge\">\n",
       "<title>26&#45;&gt;38</title>\n",
       "<path fill=\"none\" stroke=\"#000000\" d=\"M346.1812,-139.2097C370.5261,-128.1879 399.7743,-114.9462 425.8489,-103.1412\"/>\n",
       "<polygon fill=\"#000000\" stroke=\"#000000\" points=\"427.6305,-106.1767 435.2968,-98.8638 424.7434,-99.7998 427.6305,-106.1767\"/>\n",
       "</g>\n",
       "<!-- 28 -->\n",
       "<g id=\"node11\" class=\"node\">\n",
       "<title>28</title>\n",
       "<polygon fill=\"#c0c0c0\" stroke=\"#000000\" points=\"686.6334,-198 632.6334,-198 632.6334,-162 686.6334,-162 686.6334,-198\"/>\n",
       "<text text-anchor=\"middle\" x=\"659.6334\" y=\"-175.8\" font-family=\"Times,serif\" font-size=\"14.00\" fill=\"#000000\">(...)</text>\n",
       "</g>\n",
       "<!-- 27&#45;&gt;28 -->\n",
       "<g id=\"edge10\" class=\"edge\">\n",
       "<title>27&#45;&gt;28</title>\n",
       "<path fill=\"none\" stroke=\"#000000\" d=\"M575.2,-171.3008C591.6275,-172.9933 608.1573,-174.6964 622.1821,-176.1414\"/>\n",
       "<polygon fill=\"#000000\" stroke=\"#000000\" points=\"622.0694,-179.6482 632.3754,-177.1916 622.7868,-172.6851 622.0694,-179.6482\"/>\n",
       "</g>\n",
       "<!-- 35 -->\n",
       "<g id=\"node12\" class=\"node\">\n",
       "<title>35</title>\n",
       "<polygon fill=\"#c0c0c0\" stroke=\"#000000\" points=\"686.6334,-144 632.6334,-144 632.6334,-108 686.6334,-108 686.6334,-144\"/>\n",
       "<text text-anchor=\"middle\" x=\"659.6334\" y=\"-121.8\" font-family=\"Times,serif\" font-size=\"14.00\" fill=\"#000000\">(...)</text>\n",
       "</g>\n",
       "<!-- 27&#45;&gt;35 -->\n",
       "<g id=\"edge11\" class=\"edge\">\n",
       "<title>27&#45;&gt;35</title>\n",
       "<path fill=\"none\" stroke=\"#000000\" d=\"M575.2,-144.9336C591.7885,-141.2137 608.4814,-137.4704 622.5938,-134.3058\"/>\n",
       "<polygon fill=\"#000000\" stroke=\"#000000\" points=\"623.3836,-137.7157 632.3754,-132.1124 621.8519,-130.8854 623.3836,-137.7157\"/>\n",
       "</g>\n",
       "<!-- 39 -->\n",
       "<g id=\"node14\" class=\"node\">\n",
       "<title>39</title>\n",
       "<polygon fill=\"#c0c0c0\" stroke=\"#000000\" points=\"686.6334,-90 632.6334,-90 632.6334,-54 686.6334,-54 686.6334,-90\"/>\n",
       "<text text-anchor=\"middle\" x=\"659.6334\" y=\"-67.8\" font-family=\"Times,serif\" font-size=\"14.00\" fill=\"#000000\">(...)</text>\n",
       "</g>\n",
       "<!-- 38&#45;&gt;39 -->\n",
       "<g id=\"edge13\" class=\"edge\">\n",
       "<title>38&#45;&gt;39</title>\n",
       "<path fill=\"none\" stroke=\"#000000\" d=\"M553.7361,-72C576.5721,-72 602.0153,-72 622.238,-72\"/>\n",
       "<polygon fill=\"#000000\" stroke=\"#000000\" points=\"622.2959,-75.5001 632.2959,-72 622.2959,-68.5001 622.2959,-75.5001\"/>\n",
       "</g>\n",
       "<!-- 42 -->\n",
       "<g id=\"node15\" class=\"node\">\n",
       "<title>42</title>\n",
       "<polygon fill=\"#c0c0c0\" stroke=\"#000000\" points=\"686.6334,-36 632.6334,-36 632.6334,0 686.6334,0 686.6334,-36\"/>\n",
       "<text text-anchor=\"middle\" x=\"659.6334\" y=\"-13.8\" font-family=\"Times,serif\" font-size=\"14.00\" fill=\"#000000\">(...)</text>\n",
       "</g>\n",
       "<!-- 38&#45;&gt;42 -->\n",
       "<g id=\"edge14\" class=\"edge\">\n",
       "<title>38&#45;&gt;42</title>\n",
       "<path fill=\"none\" stroke=\"#000000\" d=\"M553.7361,-52.6573C576.6768,-45.1494 602.2488,-36.7804 622.516,-30.1475\"/>\n",
       "<polygon fill=\"#000000\" stroke=\"#000000\" points=\"623.8806,-33.3837 632.2959,-26.9468 621.7033,-26.7309 623.8806,-33.3837\"/>\n",
       "</g>\n",
       "</g>\n",
       "</svg>\n"
      ],
      "text/plain": [
       "<graphviz.files.Source at 0x1a28d1d7b8>"
      ]
     },
     "metadata": {},
     "output_type": "display_data"
    }
   ],
   "source": [
    "display(graphviz.Source(re.sub('Tree {',\n",
    "       f'Tree {{ size=10; ratio=0.6', f)))"
   ]
  },
  {
   "cell_type": "markdown",
   "metadata": {},
   "source": [
    "## ROC曲线"
   ]
  },
  {
   "cell_type": "code",
   "execution_count": null,
   "metadata": {},
   "outputs": [],
   "source": []
  }
 ],
 "metadata": {
  "kernelspec": {
   "display_name": "Python 3",
   "language": "python",
   "name": "python3"
  },
  "language_info": {
   "codemirror_mode": {
    "name": "ipython",
    "version": 3
   },
   "file_extension": ".py",
   "mimetype": "text/x-python",
   "name": "python",
   "nbconvert_exporter": "python",
   "pygments_lexer": "ipython3",
   "version": "3.7.1"
  },
  "toc": {
   "base_numbering": 1,
   "nav_menu": {},
   "number_sections": false,
   "sideBar": true,
   "skip_h1_title": false,
   "title_cell": "",
   "title_sidebar": "Contents",
   "toc_cell": false,
   "toc_position": {
    "height": "calc(100% - 180px)",
    "left": "10px",
    "top": "150px",
    "width": "225px"
   },
   "toc_section_display": true,
   "toc_window_display": true
  }
 },
 "nbformat": 4,
 "nbformat_minor": 2
}
